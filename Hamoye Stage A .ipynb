{
 "cells": [
  {
   "cell_type": "code",
   "execution_count": 1,
   "id": "c84a2510",
   "metadata": {},
   "outputs": [],
   "source": [
    "import numpy as np\n",
    "import pandas as pd\n",
    "import seaborn as sns\n",
    "import seaborn as sb\n",
    "import matplotlib.pyplot as plt\n",
    "plt.style.use('seaborn-whitegrid')"
   ]
  },
  {
   "cell_type": "code",
   "execution_count": 2,
   "id": "ac465641",
   "metadata": {},
   "outputs": [],
   "source": [
    "data = pd.read_csv(\"C:/Users/Admin/Desktop/PYTHON/Stage 1/FoodBalanceSheets_E_Africa_NOFLAG.csv \",encoding='latin-1')"
   ]
  },
  {
   "cell_type": "code",
   "execution_count": 3,
   "id": "d79140d0",
   "metadata": {},
   "outputs": [
    {
     "data": {
      "text/html": [
       "<div>\n",
       "<style scoped>\n",
       "    .dataframe tbody tr th:only-of-type {\n",
       "        vertical-align: middle;\n",
       "    }\n",
       "\n",
       "    .dataframe tbody tr th {\n",
       "        vertical-align: top;\n",
       "    }\n",
       "\n",
       "    .dataframe thead th {\n",
       "        text-align: right;\n",
       "    }\n",
       "</style>\n",
       "<table border=\"1\" class=\"dataframe\">\n",
       "  <thead>\n",
       "    <tr style=\"text-align: right;\">\n",
       "      <th></th>\n",
       "      <th>Area Code</th>\n",
       "      <th>Area</th>\n",
       "      <th>Item Code</th>\n",
       "      <th>Item</th>\n",
       "      <th>Element Code</th>\n",
       "      <th>Element</th>\n",
       "      <th>Unit</th>\n",
       "      <th>Y2014</th>\n",
       "      <th>Y2015</th>\n",
       "      <th>Y2016</th>\n",
       "      <th>Y2017</th>\n",
       "      <th>Y2018</th>\n",
       "    </tr>\n",
       "  </thead>\n",
       "  <tbody>\n",
       "    <tr>\n",
       "      <th>0</th>\n",
       "      <td>4</td>\n",
       "      <td>Algeria</td>\n",
       "      <td>2501</td>\n",
       "      <td>Population</td>\n",
       "      <td>511</td>\n",
       "      <td>Total Population - Both sexes</td>\n",
       "      <td>1000 persons</td>\n",
       "      <td>38924.00</td>\n",
       "      <td>39728.00</td>\n",
       "      <td>40551.00</td>\n",
       "      <td>41389.00</td>\n",
       "      <td>42228.00</td>\n",
       "    </tr>\n",
       "    <tr>\n",
       "      <th>1</th>\n",
       "      <td>4</td>\n",
       "      <td>Algeria</td>\n",
       "      <td>2501</td>\n",
       "      <td>Population</td>\n",
       "      <td>5301</td>\n",
       "      <td>Domestic supply quantity</td>\n",
       "      <td>1000 tonnes</td>\n",
       "      <td>0.00</td>\n",
       "      <td>0.00</td>\n",
       "      <td>0.00</td>\n",
       "      <td>0.00</td>\n",
       "      <td>0.00</td>\n",
       "    </tr>\n",
       "    <tr>\n",
       "      <th>2</th>\n",
       "      <td>4</td>\n",
       "      <td>Algeria</td>\n",
       "      <td>2901</td>\n",
       "      <td>Grand Total</td>\n",
       "      <td>664</td>\n",
       "      <td>Food supply (kcal/capita/day)</td>\n",
       "      <td>kcal/capita/day</td>\n",
       "      <td>3377.00</td>\n",
       "      <td>3379.00</td>\n",
       "      <td>3372.00</td>\n",
       "      <td>3341.00</td>\n",
       "      <td>3322.00</td>\n",
       "    </tr>\n",
       "    <tr>\n",
       "      <th>3</th>\n",
       "      <td>4</td>\n",
       "      <td>Algeria</td>\n",
       "      <td>2901</td>\n",
       "      <td>Grand Total</td>\n",
       "      <td>674</td>\n",
       "      <td>Protein supply quantity (g/capita/day)</td>\n",
       "      <td>g/capita/day</td>\n",
       "      <td>94.90</td>\n",
       "      <td>94.35</td>\n",
       "      <td>94.72</td>\n",
       "      <td>92.82</td>\n",
       "      <td>91.83</td>\n",
       "    </tr>\n",
       "    <tr>\n",
       "      <th>4</th>\n",
       "      <td>4</td>\n",
       "      <td>Algeria</td>\n",
       "      <td>2901</td>\n",
       "      <td>Grand Total</td>\n",
       "      <td>684</td>\n",
       "      <td>Fat supply quantity (g/capita/day)</td>\n",
       "      <td>g/capita/day</td>\n",
       "      <td>80.06</td>\n",
       "      <td>79.36</td>\n",
       "      <td>77.40</td>\n",
       "      <td>80.19</td>\n",
       "      <td>77.28</td>\n",
       "    </tr>\n",
       "  </tbody>\n",
       "</table>\n",
       "</div>"
      ],
      "text/plain": [
       "   Area Code     Area  Item Code         Item  Element Code  \\\n",
       "0          4  Algeria       2501   Population           511   \n",
       "1          4  Algeria       2501   Population          5301   \n",
       "2          4  Algeria       2901  Grand Total           664   \n",
       "3          4  Algeria       2901  Grand Total           674   \n",
       "4          4  Algeria       2901  Grand Total           684   \n",
       "\n",
       "                                  Element             Unit     Y2014  \\\n",
       "0           Total Population - Both sexes     1000 persons  38924.00   \n",
       "1                Domestic supply quantity      1000 tonnes      0.00   \n",
       "2           Food supply (kcal/capita/day)  kcal/capita/day   3377.00   \n",
       "3  Protein supply quantity (g/capita/day)     g/capita/day     94.90   \n",
       "4      Fat supply quantity (g/capita/day)     g/capita/day     80.06   \n",
       "\n",
       "      Y2015     Y2016     Y2017     Y2018  \n",
       "0  39728.00  40551.00  41389.00  42228.00  \n",
       "1      0.00      0.00      0.00      0.00  \n",
       "2   3379.00   3372.00   3341.00   3322.00  \n",
       "3     94.35     94.72     92.82     91.83  \n",
       "4     79.36     77.40     80.19     77.28  "
      ]
     },
     "execution_count": 3,
     "metadata": {},
     "output_type": "execute_result"
    }
   ],
   "source": [
    "data.head()"
   ]
  },
  {
   "cell_type": "markdown",
   "id": "e538510d",
   "metadata": {},
   "source": [
    "# Question 11\n",
    "What is the total sum of Animal Fat produced in 2014 and 2017 respectively?"
   ]
  },
  {
   "cell_type": "code",
   "execution_count": 4,
   "id": "18e0f385",
   "metadata": {},
   "outputs": [
    {
     "data": {
      "text/plain": [
       "Area Code         85279.00\n",
       "Item Code       1882494.00\n",
       "Element Code    2567303.00\n",
       "Y2014            209460.54\n",
       "Y2015            200675.72\n",
       "Y2016            183314.22\n",
       "Y2017            269617.53\n",
       "Y2018            269648.27\n",
       "Name: Animal fats, dtype: float64"
      ]
     },
     "execution_count": 4,
     "metadata": {},
     "output_type": "execute_result"
    }
   ],
   "source": [
    "ans = data.groupby(['Item']).sum()\n",
    "ans.loc['Animal fats']"
   ]
  },
  {
   "cell_type": "markdown",
   "id": "8f7d86e4",
   "metadata": {},
   "source": [
    "# Question 12\n",
    "What is the mean and standard deviation across the whole dataset for the year 2015 to 3 decimal places?"
   ]
  },
  {
   "cell_type": "code",
   "execution_count": 5,
   "id": "880faa89",
   "metadata": {},
   "outputs": [
    {
     "data": {
      "text/html": [
       "<div>\n",
       "<style scoped>\n",
       "    .dataframe tbody tr th:only-of-type {\n",
       "        vertical-align: middle;\n",
       "    }\n",
       "\n",
       "    .dataframe tbody tr th {\n",
       "        vertical-align: top;\n",
       "    }\n",
       "\n",
       "    .dataframe thead th {\n",
       "        text-align: right;\n",
       "    }\n",
       "</style>\n",
       "<table border=\"1\" class=\"dataframe\">\n",
       "  <thead>\n",
       "    <tr style=\"text-align: right;\">\n",
       "      <th></th>\n",
       "      <th>Area Code</th>\n",
       "      <th>Item Code</th>\n",
       "      <th>Element Code</th>\n",
       "      <th>Y2014</th>\n",
       "      <th>Y2015</th>\n",
       "      <th>Y2016</th>\n",
       "      <th>Y2017</th>\n",
       "      <th>Y2018</th>\n",
       "    </tr>\n",
       "  </thead>\n",
       "  <tbody>\n",
       "    <tr>\n",
       "      <th>count</th>\n",
       "      <td>60943.000</td>\n",
       "      <td>60943.000</td>\n",
       "      <td>60943.000</td>\n",
       "      <td>59354.000</td>\n",
       "      <td>59395.000</td>\n",
       "      <td>59408.000</td>\n",
       "      <td>59437.000</td>\n",
       "      <td>59507.000</td>\n",
       "    </tr>\n",
       "    <tr>\n",
       "      <th>mean</th>\n",
       "      <td>134.266</td>\n",
       "      <td>2687.177</td>\n",
       "      <td>3814.856</td>\n",
       "      <td>134.196</td>\n",
       "      <td>135.236</td>\n",
       "      <td>136.555</td>\n",
       "      <td>140.918</td>\n",
       "      <td>143.758</td>\n",
       "    </tr>\n",
       "    <tr>\n",
       "      <th>std</th>\n",
       "      <td>72.606</td>\n",
       "      <td>146.056</td>\n",
       "      <td>2212.007</td>\n",
       "      <td>1567.664</td>\n",
       "      <td>1603.404</td>\n",
       "      <td>1640.007</td>\n",
       "      <td>1671.862</td>\n",
       "      <td>1710.783</td>\n",
       "    </tr>\n",
       "    <tr>\n",
       "      <th>min</th>\n",
       "      <td>4.000</td>\n",
       "      <td>2501.000</td>\n",
       "      <td>511.000</td>\n",
       "      <td>-1796.000</td>\n",
       "      <td>-3161.000</td>\n",
       "      <td>-3225.000</td>\n",
       "      <td>-1582.000</td>\n",
       "      <td>-3396.000</td>\n",
       "    </tr>\n",
       "    <tr>\n",
       "      <th>25%</th>\n",
       "      <td>74.000</td>\n",
       "      <td>2562.000</td>\n",
       "      <td>684.000</td>\n",
       "      <td>0.000</td>\n",
       "      <td>0.000</td>\n",
       "      <td>0.000</td>\n",
       "      <td>0.000</td>\n",
       "      <td>0.000</td>\n",
       "    </tr>\n",
       "    <tr>\n",
       "      <th>50%</th>\n",
       "      <td>136.000</td>\n",
       "      <td>2630.000</td>\n",
       "      <td>5142.000</td>\n",
       "      <td>0.090</td>\n",
       "      <td>0.080</td>\n",
       "      <td>0.080</td>\n",
       "      <td>0.100</td>\n",
       "      <td>0.070</td>\n",
       "    </tr>\n",
       "    <tr>\n",
       "      <th>75%</th>\n",
       "      <td>195.000</td>\n",
       "      <td>2775.000</td>\n",
       "      <td>5511.000</td>\n",
       "      <td>8.340</td>\n",
       "      <td>8.460</td>\n",
       "      <td>8.430</td>\n",
       "      <td>9.000</td>\n",
       "      <td>9.000</td>\n",
       "    </tr>\n",
       "    <tr>\n",
       "      <th>max</th>\n",
       "      <td>276.000</td>\n",
       "      <td>2961.000</td>\n",
       "      <td>5911.000</td>\n",
       "      <td>176405.000</td>\n",
       "      <td>181137.000</td>\n",
       "      <td>185960.000</td>\n",
       "      <td>190873.000</td>\n",
       "      <td>195875.000</td>\n",
       "    </tr>\n",
       "  </tbody>\n",
       "</table>\n",
       "</div>"
      ],
      "text/plain": [
       "       Area Code  Item Code  Element Code       Y2014       Y2015       Y2016  \\\n",
       "count  60943.000  60943.000     60943.000   59354.000   59395.000   59408.000   \n",
       "mean     134.266   2687.177      3814.856     134.196     135.236     136.555   \n",
       "std       72.606    146.056      2212.007    1567.664    1603.404    1640.007   \n",
       "min        4.000   2501.000       511.000   -1796.000   -3161.000   -3225.000   \n",
       "25%       74.000   2562.000       684.000       0.000       0.000       0.000   \n",
       "50%      136.000   2630.000      5142.000       0.090       0.080       0.080   \n",
       "75%      195.000   2775.000      5511.000       8.340       8.460       8.430   \n",
       "max      276.000   2961.000      5911.000  176405.000  181137.000  185960.000   \n",
       "\n",
       "            Y2017       Y2018  \n",
       "count   59437.000   59507.000  \n",
       "mean      140.918     143.758  \n",
       "std      1671.862    1710.783  \n",
       "min     -1582.000   -3396.000  \n",
       "25%         0.000       0.000  \n",
       "50%         0.100       0.070  \n",
       "75%         9.000       9.000  \n",
       "max    190873.000  195875.000  "
      ]
     },
     "execution_count": 5,
     "metadata": {},
     "output_type": "execute_result"
    }
   ],
   "source": [
    "round(data.describe(),3)"
   ]
  },
  {
   "cell_type": "markdown",
   "id": "93298fbf",
   "metadata": {},
   "source": [
    "# Question 13\n",
    "What is the total number and percentage of missing data in 2016 to 2 decimal places?"
   ]
  },
  {
   "cell_type": "code",
   "execution_count": 6,
   "id": "7618b0b8",
   "metadata": {},
   "outputs": [
    {
     "data": {
      "text/plain": [
       "Area Code          0\n",
       "Area               0\n",
       "Item Code          0\n",
       "Item               0\n",
       "Element Code       0\n",
       "Element            0\n",
       "Unit               0\n",
       "Y2014           1589\n",
       "Y2015           1548\n",
       "Y2016           1535\n",
       "Y2017           1506\n",
       "Y2018           1436\n",
       "dtype: int64"
      ]
     },
     "execution_count": 6,
     "metadata": {},
     "output_type": "execute_result"
    }
   ],
   "source": [
    "data.isnull().sum()"
   ]
  },
  {
   "cell_type": "code",
   "execution_count": 7,
   "id": "fe97428d",
   "metadata": {},
   "outputs": [
    {
     "data": {
      "text/plain": [
       "Area Code       0.00\n",
       "Area            0.00\n",
       "Item Code       0.00\n",
       "Item            0.00\n",
       "Element Code    0.00\n",
       "Element         0.00\n",
       "Unit            0.00\n",
       "Y2014           2.61\n",
       "Y2015           2.54\n",
       "Y2016           2.52\n",
       "Y2017           2.47\n",
       "Y2018           2.36\n",
       "dtype: float64"
      ]
     },
     "execution_count": 7,
     "metadata": {},
     "output_type": "execute_result"
    }
   ],
   "source": [
    "round(data.isnull().mean() * 100,2)"
   ]
  },
  {
   "cell_type": "markdown",
   "id": "bd881098",
   "metadata": {},
   "source": [
    "# Question 14\n",
    "Which year had the highest correlation with ‘Element Code’?"
   ]
  },
  {
   "cell_type": "code",
   "execution_count": 8,
   "id": "6e1e2915",
   "metadata": {},
   "outputs": [
    {
     "data": {
      "text/plain": [
       "Item Code      -0.024683\n",
       "Area Code      -0.000209\n",
       "Y2016           0.023444\n",
       "Y2015           0.023889\n",
       "Y2017           0.024254\n",
       "Y2018           0.024279\n",
       "Y2014           0.024457\n",
       "Element Code    1.000000\n",
       "Name: Element Code, dtype: float64"
      ]
     },
     "execution_count": 8,
     "metadata": {},
     "output_type": "execute_result"
    }
   ],
   "source": [
    "data.corr()['Element Code'].sort_values()"
   ]
  },
  {
   "cell_type": "markdown",
   "id": "7e8ed799",
   "metadata": {},
   "source": [
    "# Question 15\n",
    "What year has the highest sum of Import Quantity"
   ]
  },
  {
   "cell_type": "code",
   "execution_count": 9,
   "id": "4d31b75f",
   "metadata": {},
   "outputs": [
    {
     "data": {
      "text/plain": [
       "Element Code     28834929\n",
       "Y2014           274144.48\n",
       "Y2015           267018.46\n",
       "Y2016           286582.78\n",
       "Y2017           294559.09\n",
       "Y2018           287997.09\n",
       "Name: 7, dtype: object"
      ]
     },
     "execution_count": 9,
     "metadata": {},
     "output_type": "execute_result"
    }
   ],
   "source": [
    "ans = data.groupby(['Element'], as_index = False).sum()\n",
    "ans.iloc[7,3:]"
   ]
  },
  {
   "cell_type": "markdown",
   "id": "9dc76258",
   "metadata": {},
   "source": [
    "# Question 16\n",
    "What is the total number of the sum of Production in 2014?"
   ]
  },
  {
   "cell_type": "code",
   "execution_count": 10,
   "id": "ba3e848b",
   "metadata": {},
   "outputs": [
    {
     "data": {
      "text/plain": [
       "Element Code      21388191\n",
       "Y2014           1931287.75\n",
       "Y2015           1947019.39\n",
       "Y2016           1943537.15\n",
       "Y2017           2030056.89\n",
       "Y2018           2075072.89\n",
       "Name: 11, dtype: object"
      ]
     },
     "execution_count": 10,
     "metadata": {},
     "output_type": "execute_result"
    }
   ],
   "source": [
    " ans = data.groupby(['Element'], as_index = False).sum()\n",
    " ans.iloc[11,3:]"
   ]
  },
  {
   "cell_type": "markdown",
   "id": "053346dc",
   "metadata": {},
   "source": [
    "# Question 17 \n",
    "Which of these elements had the highest sum in 2018?"
   ]
  },
  {
   "cell_type": "code",
   "execution_count": 11,
   "id": "0150e74c",
   "metadata": {},
   "outputs": [
    {
     "data": {
      "text/plain": [
       "Element\n",
       "Domestic supply quantity                  2161192.10\n",
       "Production                                2075072.89\n",
       "Food                                      1303841.28\n",
       "Total Population - Both sexes             1140605.00\n",
       "Food supply (kcal/capita/day)              455261.00\n",
       "Processing                                 308429.00\n",
       "Import Quantity                            287997.09\n",
       "Feed                                       233489.68\n",
       "Export Quantity                            181594.80\n",
       "Losses                                     163902.00\n",
       "Other uses (non-food)                       91300.97\n",
       "Food supply quantity (kg/capita/yr)         49056.85\n",
       "Residuals                                   34864.00\n",
       "Seed                                        25263.14\n",
       "Stock Variation                             20577.91\n",
       "Protein supply quantity (g/capita/day)      11833.56\n",
       "Fat supply quantity (g/capita/day)          10258.69\n",
       "Tourist consumption                            90.00\n",
       "Name: Y2018, dtype: float64"
      ]
     },
     "execution_count": 11,
     "metadata": {},
     "output_type": "execute_result"
    }
   ],
   "source": [
    "ans = data.groupby([\"Element\"]).sum()\n",
    "ans['Y2018'].sort_values(ascending=False)"
   ]
  },
  {
   "cell_type": "markdown",
   "id": "42f45880",
   "metadata": {},
   "source": [
    "# Question 18 \n",
    "Which of these elements had the 3rd lowest sum in 2018?"
   ]
  },
  {
   "cell_type": "code",
   "execution_count": 12,
   "id": "7c23b42b",
   "metadata": {},
   "outputs": [
    {
     "data": {
      "text/plain": [
       "Element\n",
       "Tourist consumption                            90.00\n",
       "Fat supply quantity (g/capita/day)          10258.69\n",
       "Protein supply quantity (g/capita/day)      11833.56\n",
       "Stock Variation                             20577.91\n",
       "Seed                                        25263.14\n",
       "Residuals                                   34864.00\n",
       "Food supply quantity (kg/capita/yr)         49056.85\n",
       "Other uses (non-food)                       91300.97\n",
       "Losses                                     163902.00\n",
       "Export Quantity                            181594.80\n",
       "Feed                                       233489.68\n",
       "Import Quantity                            287997.09\n",
       "Processing                                 308429.00\n",
       "Food supply (kcal/capita/day)              455261.00\n",
       "Total Population - Both sexes             1140605.00\n",
       "Food                                      1303841.28\n",
       "Production                                2075072.89\n",
       "Domestic supply quantity                  2161192.10\n",
       "Name: Y2018, dtype: float64"
      ]
     },
     "execution_count": 12,
     "metadata": {},
     "output_type": "execute_result"
    }
   ],
   "source": [
    "ans = data.groupby([\"Element\"]).sum()\n",
    "ans['Y2018'].sort_values(ascending=True)\n"
   ]
  },
  {
   "cell_type": "markdown",
   "id": "ed9fa148",
   "metadata": {},
   "source": [
    "# Question 19\n",
    "What is the total Import Quantity in Algeria in 2018?"
   ]
  },
  {
   "cell_type": "code",
   "execution_count": 13,
   "id": "94bdc215",
   "metadata": {},
   "outputs": [
    {
     "data": {
      "text/plain": [
       "Element\n",
       "Domestic supply quantity                  90023.42\n",
       "Export Quantity                             811.54\n",
       "Fat supply quantity (g/capita/day)          309.09\n",
       "Feed                                      10668.00\n",
       "Food                                      63736.33\n",
       "Food supply (kcal/capita/day)             13288.00\n",
       "Food supply quantity (kg/capita/yr)        1509.28\n",
       "Import Quantity                           36238.29\n",
       "Losses                                     7708.00\n",
       "Other uses (non-food)                      3970.08\n",
       "Processing                                 2479.00\n",
       "Production                                60766.67\n",
       "Protein supply quantity (g/capita/day)      367.28\n",
       "Residuals                                   630.00\n",
       "Seed                                        825.00\n",
       "Stock Variation                            6172.00\n",
       "Total Population - Both sexes             42228.00\n",
       "Name: Y2018, dtype: float64"
      ]
     },
     "execution_count": 13,
     "metadata": {},
     "output_type": "execute_result"
    }
   ],
   "source": [
    "ans = data[data['Area'] == 'Algeria'].groupby('Element').sum()\n",
    "ans['Y2018']"
   ]
  },
  {
   "cell_type": "markdown",
   "id": "58a90d3d",
   "metadata": {},
   "source": [
    "# Question 20\n",
    "What is the total number of unique countries in the dataset?"
   ]
  },
  {
   "cell_type": "code",
   "execution_count": 14,
   "id": "4a1a5ea7",
   "metadata": {},
   "outputs": [
    {
     "data": {
      "text/plain": [
       "49"
      ]
     },
     "execution_count": 14,
     "metadata": {},
     "output_type": "execute_result"
    }
   ],
   "source": [
    "ans = set(data['Area'])\n",
    "len(ans)"
   ]
  }
 ],
 "metadata": {
  "kernelspec": {
   "display_name": "Python 3 (ipykernel)",
   "language": "python",
   "name": "python3"
  },
  "language_info": {
   "codemirror_mode": {
    "name": "ipython",
    "version": 3
   },
   "file_extension": ".py",
   "mimetype": "text/x-python",
   "name": "python",
   "nbconvert_exporter": "python",
   "pygments_lexer": "ipython3",
   "version": "3.9.7"
  }
 },
 "nbformat": 4,
 "nbformat_minor": 5
}
